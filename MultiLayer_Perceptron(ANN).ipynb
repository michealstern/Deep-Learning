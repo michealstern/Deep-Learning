{
 "cells": [
  {
   "cell_type": "code",
   "execution_count": 1,
   "id": "a7482b6f-4d96-4845-8114-681a56c4f50e",
   "metadata": {},
   "outputs": [],
   "source": [
    "import pandas as pd\n",
    "import matplotlib.pyplot as plt"
   ]
  },
  {
   "cell_type": "code",
   "execution_count": 2,
   "id": "73e931d9-361c-4ad3-8512-8e4dd9cf2018",
   "metadata": {},
   "outputs": [
    {
     "data": {
      "text/html": [
       "<div>\n",
       "<style scoped>\n",
       "    .dataframe tbody tr th:only-of-type {\n",
       "        vertical-align: middle;\n",
       "    }\n",
       "\n",
       "    .dataframe tbody tr th {\n",
       "        vertical-align: top;\n",
       "    }\n",
       "\n",
       "    .dataframe thead th {\n",
       "        text-align: right;\n",
       "    }\n",
       "</style>\n",
       "<table border=\"1\" class=\"dataframe\">\n",
       "  <thead>\n",
       "    <tr style=\"text-align: right;\">\n",
       "      <th></th>\n",
       "      <th>CreditScore</th>\n",
       "      <th>Age</th>\n",
       "      <th>Tenure</th>\n",
       "      <th>Balance</th>\n",
       "      <th>NumOfProducts</th>\n",
       "      <th>HasCrCard</th>\n",
       "      <th>IsActiveMember</th>\n",
       "      <th>EstimatedSalary</th>\n",
       "      <th>Exited</th>\n",
       "    </tr>\n",
       "  </thead>\n",
       "  <tbody>\n",
       "    <tr>\n",
       "      <th>0</th>\n",
       "      <td>619</td>\n",
       "      <td>42</td>\n",
       "      <td>2</td>\n",
       "      <td>0.00</td>\n",
       "      <td>1</td>\n",
       "      <td>1</td>\n",
       "      <td>1</td>\n",
       "      <td>101348.88</td>\n",
       "      <td>1</td>\n",
       "    </tr>\n",
       "    <tr>\n",
       "      <th>1</th>\n",
       "      <td>608</td>\n",
       "      <td>41</td>\n",
       "      <td>1</td>\n",
       "      <td>83807.86</td>\n",
       "      <td>1</td>\n",
       "      <td>0</td>\n",
       "      <td>1</td>\n",
       "      <td>112542.58</td>\n",
       "      <td>0</td>\n",
       "    </tr>\n",
       "    <tr>\n",
       "      <th>2</th>\n",
       "      <td>502</td>\n",
       "      <td>42</td>\n",
       "      <td>8</td>\n",
       "      <td>159660.80</td>\n",
       "      <td>3</td>\n",
       "      <td>1</td>\n",
       "      <td>0</td>\n",
       "      <td>113931.57</td>\n",
       "      <td>1</td>\n",
       "    </tr>\n",
       "  </tbody>\n",
       "</table>\n",
       "</div>"
      ],
      "text/plain": [
       "   CreditScore  Age  Tenure    Balance  NumOfProducts  HasCrCard  \\\n",
       "0          619   42       2       0.00              1          1   \n",
       "1          608   41       1   83807.86              1          0   \n",
       "2          502   42       8  159660.80              3          1   \n",
       "\n",
       "   IsActiveMember  EstimatedSalary  Exited  \n",
       "0               1        101348.88       1  \n",
       "1               1        112542.58       0  \n",
       "2               0        113931.57       1  "
      ]
     },
     "execution_count": 2,
     "metadata": {},
     "output_type": "execute_result"
    }
   ],
   "source": [
    "data = pd.read_csv(\"Churn_Modelling.csv\")\n",
    "data.head(3)"
   ]
  },
  {
   "cell_type": "code",
   "execution_count": 3,
   "id": "b38bd7c3-b774-46a5-8e76-d6c0e835127f",
   "metadata": {},
   "outputs": [
    {
     "data": {
      "text/plain": [
       "CreditScore        0\n",
       "Age                0\n",
       "Tenure             0\n",
       "Balance            0\n",
       "NumOfProducts      0\n",
       "HasCrCard          0\n",
       "IsActiveMember     0\n",
       "EstimatedSalary    0\n",
       "Exited             0\n",
       "dtype: int64"
      ]
     },
     "execution_count": 3,
     "metadata": {},
     "output_type": "execute_result"
    }
   ],
   "source": [
    "data.isnull().sum()"
   ]
  },
  {
   "cell_type": "code",
   "execution_count": 4,
   "id": "11841c13-018e-4f29-b871-f0f84238fd37",
   "metadata": {},
   "outputs": [],
   "source": [
    "x = data.iloc[:,:-1]\n",
    "y = data[\"Exited\"]"
   ]
  },
  {
   "cell_type": "code",
   "execution_count": 5,
   "id": "fff5ce3d-6f63-46aa-a98b-8ffaa6549473",
   "metadata": {},
   "outputs": [],
   "source": [
    "from sklearn.preprocessing import StandardScaler\n",
    "\n",
    "sc = StandardScaler()\n",
    "\n",
    "x = pd.DataFrame(sc.fit_transform(x), columns=x.columns)"
   ]
  },
  {
   "cell_type": "code",
   "execution_count": 6,
   "id": "7e0b80a0-f09c-40de-83c2-139b45a7c227",
   "metadata": {},
   "outputs": [],
   "source": [
    "from sklearn.model_selection import train_test_split\n",
    "x_train,x_test,y_train,y_test = train_test_split(x,y, test_size=0.2, random_state=42)"
   ]
  },
  {
   "cell_type": "code",
   "execution_count": 7,
   "id": "11cd5e70",
   "metadata": {},
   "outputs": [
    {
     "data": {
      "text/plain": [
       "(10000, 8)"
      ]
     },
     "execution_count": 7,
     "metadata": {},
     "output_type": "execute_result"
    }
   ],
   "source": [
    "x.shape"
   ]
  },
  {
   "cell_type": "markdown",
   "id": "f52cad78-55f1-4cdf-a2dc-d2722fc36ff5",
   "metadata": {},
   "source": [
    "# Model"
   ]
  },
  {
   "cell_type": "code",
   "execution_count": 8,
   "id": "e05039d9-c8e3-467d-bdd3-7d0b92738ab7",
   "metadata": {},
   "outputs": [],
   "source": [
    "import tensorflow "
   ]
  },
  {
   "cell_type": "code",
   "execution_count": 9,
   "id": "b56ef323-d0bd-4483-ab53-e9c013e5e8bb",
   "metadata": {},
   "outputs": [],
   "source": [
    "from keras.layers import Dense\n",
    "from keras.models import Sequential"
   ]
  },
  {
   "cell_type": "code",
   "execution_count": 10,
   "id": "96f81c26-5e3a-4d1f-8e3e-de0b4ba81947",
   "metadata": {},
   "outputs": [],
   "source": [
    "ann = Sequential()"
   ]
  },
  {
   "cell_type": "code",
   "execution_count": 11,
   "id": "5df8db2d",
   "metadata": {},
   "outputs": [],
   "source": [
    "# Num of hidden layers:- [6 nodes, 4 nodes, 2 nodes, 1 node for binary classification]\n",
    "# Num of inputs : [8]\n",
    "# Activation Function:- ['rule':best for hidden layers fast and efficient, 'sigmoid':Output for binary classification(0/1) ]\n",
    "\n",
    "ann.add(Dense(6, input_dim=8, activation=\"relu\"))\n",
    "ann.add(Dense(4, activation=\"relu\"))\n",
    "ann.add(Dense(2, activation=\"relu\"))\n",
    "ann.add(Dense(1, activation=\"sigmoid\"))"
   ]
  },
  {
   "cell_type": "code",
   "execution_count": 12,
   "id": "3722fed1",
   "metadata": {},
   "outputs": [],
   "source": [
    "# Optimizer: for weights update. ['adam': Most common and fast]\n",
    "# Loss Function: ['binary_crossentropy': Binary classification problems (0 or 1)]\n",
    "\n",
    "ann.compile(optimizer='adam', loss=\"binary_crossentropy\", metrics=['accuracy'])"
   ]
  },
  {
   "cell_type": "code",
   "execution_count": 13,
   "id": "bed9554f",
   "metadata": {},
   "outputs": [
    {
     "data": {
      "text/plain": [
       "(8000, 8)"
      ]
     },
     "execution_count": 13,
     "metadata": {},
     "output_type": "execute_result"
    }
   ],
   "source": [
    "x_train.shape"
   ]
  },
  {
   "cell_type": "code",
   "execution_count": 14,
   "id": "9552852f-d41d-4320-8caf-b081683468b7",
   "metadata": {},
   "outputs": [
    {
     "name": "stdout",
     "output_type": "stream",
     "text": [
      "Epoch 1/50\n",
      "80/80 [==============================] - 1s 2ms/step - loss: 0.6162 - accuracy: 0.7945\n",
      "Epoch 2/50\n",
      "80/80 [==============================] - 0s 3ms/step - loss: 0.5283 - accuracy: 0.7945\n",
      "Epoch 3/50\n",
      "80/80 [==============================] - 0s 2ms/step - loss: 0.4891 - accuracy: 0.7945\n",
      "Epoch 4/50\n",
      "80/80 [==============================] - 0s 2ms/step - loss: 0.4738 - accuracy: 0.7945\n",
      "Epoch 5/50\n",
      "80/80 [==============================] - 0s 2ms/step - loss: 0.4641 - accuracy: 0.7945\n",
      "Epoch 6/50\n",
      "80/80 [==============================] - 0s 2ms/step - loss: 0.4567 - accuracy: 0.7945\n",
      "Epoch 7/50\n",
      "80/80 [==============================] - 0s 2ms/step - loss: 0.4512 - accuracy: 0.7945\n",
      "Epoch 8/50\n",
      "80/80 [==============================] - 0s 2ms/step - loss: 0.4468 - accuracy: 0.7945\n",
      "Epoch 9/50\n",
      "80/80 [==============================] - 0s 2ms/step - loss: 0.4433 - accuracy: 0.7945\n",
      "Epoch 10/50\n",
      "80/80 [==============================] - 0s 6ms/step - loss: 0.4403 - accuracy: 0.7945\n",
      "Epoch 11/50\n",
      "80/80 [==============================] - 0s 2ms/step - loss: 0.4381 - accuracy: 0.7945\n",
      "Epoch 12/50\n",
      "80/80 [==============================] - 0s 2ms/step - loss: 0.4362 - accuracy: 0.7945\n",
      "Epoch 13/50\n",
      "80/80 [==============================] - 0s 3ms/step - loss: 0.4351 - accuracy: 0.7945\n",
      "Epoch 14/50\n",
      "80/80 [==============================] - 0s 4ms/step - loss: 0.4340 - accuracy: 0.7945\n",
      "Epoch 15/50\n",
      "80/80 [==============================] - 0s 4ms/step - loss: 0.4330 - accuracy: 0.8135\n",
      "Epoch 16/50\n",
      "80/80 [==============================] - 1s 9ms/step - loss: 0.4322 - accuracy: 0.8163\n",
      "Epoch 17/50\n",
      "80/80 [==============================] - 1s 8ms/step - loss: 0.4314 - accuracy: 0.8177\n",
      "Epoch 18/50\n",
      "80/80 [==============================] - 0s 4ms/step - loss: 0.4305 - accuracy: 0.8191\n",
      "Epoch 19/50\n",
      "80/80 [==============================] - 0s 4ms/step - loss: 0.4297 - accuracy: 0.8198\n",
      "Epoch 20/50\n",
      "80/80 [==============================] - 0s 4ms/step - loss: 0.4290 - accuracy: 0.8224\n",
      "Epoch 21/50\n",
      "80/80 [==============================] - 0s 3ms/step - loss: 0.4281 - accuracy: 0.8226\n",
      "Epoch 22/50\n",
      "80/80 [==============================] - 0s 4ms/step - loss: 0.4275 - accuracy: 0.8241\n",
      "Epoch 23/50\n",
      "80/80 [==============================] - 0s 3ms/step - loss: 0.4267 - accuracy: 0.8245\n",
      "Epoch 24/50\n",
      "80/80 [==============================] - 0s 4ms/step - loss: 0.4261 - accuracy: 0.8251\n",
      "Epoch 25/50\n",
      "80/80 [==============================] - 0s 2ms/step - loss: 0.4254 - accuracy: 0.8257\n",
      "Epoch 26/50\n",
      "80/80 [==============================] - 0s 3ms/step - loss: 0.4246 - accuracy: 0.8267\n",
      "Epoch 27/50\n",
      "80/80 [==============================] - 0s 3ms/step - loss: 0.4241 - accuracy: 0.8271\n",
      "Epoch 28/50\n",
      "80/80 [==============================] - 0s 2ms/step - loss: 0.4236 - accuracy: 0.8278\n",
      "Epoch 29/50\n",
      "80/80 [==============================] - 0s 2ms/step - loss: 0.4229 - accuracy: 0.8275\n",
      "Epoch 30/50\n",
      "80/80 [==============================] - 0s 3ms/step - loss: 0.4225 - accuracy: 0.8291\n",
      "Epoch 31/50\n",
      "80/80 [==============================] - 0s 2ms/step - loss: 0.4216 - accuracy: 0.8284\n",
      "Epoch 32/50\n",
      "80/80 [==============================] - 0s 3ms/step - loss: 0.4214 - accuracy: 0.8292\n",
      "Epoch 33/50\n",
      "80/80 [==============================] - 0s 4ms/step - loss: 0.4206 - accuracy: 0.8285\n",
      "Epoch 34/50\n",
      "80/80 [==============================] - 0s 4ms/step - loss: 0.4200 - accuracy: 0.8296\n",
      "Epoch 35/50\n",
      "80/80 [==============================] - 0s 3ms/step - loss: 0.4194 - accuracy: 0.8303\n",
      "Epoch 36/50\n",
      "80/80 [==============================] - 1s 8ms/step - loss: 0.4187 - accuracy: 0.8294\n",
      "Epoch 37/50\n",
      "80/80 [==============================] - 1s 11ms/step - loss: 0.4183 - accuracy: 0.8295\n",
      "Epoch 38/50\n",
      "80/80 [==============================] - 1s 7ms/step - loss: 0.4180 - accuracy: 0.8309\n",
      "Epoch 39/50\n",
      "80/80 [==============================] - 1s 7ms/step - loss: 0.4172 - accuracy: 0.8314\n",
      "Epoch 40/50\n",
      "80/80 [==============================] - 0s 6ms/step - loss: 0.4169 - accuracy: 0.8300\n",
      "Epoch 41/50\n",
      "80/80 [==============================] - 1s 16ms/step - loss: 0.4162 - accuracy: 0.8316\n",
      "Epoch 42/50\n",
      "80/80 [==============================] - 0s 6ms/step - loss: 0.4158 - accuracy: 0.8317\n",
      "Epoch 43/50\n",
      "80/80 [==============================] - 1s 12ms/step - loss: 0.4153 - accuracy: 0.8329 2s - loss: 0\n",
      "Epoch 44/50\n",
      "80/80 [==============================] - 2s 22ms/step - loss: 0.4146 - accuracy: 0.8321\n",
      "Epoch 45/50\n",
      "80/80 [==============================] - 0s 3ms/step - loss: 0.4142 - accuracy: 0.8320\n",
      "Epoch 46/50\n",
      "80/80 [==============================] - 0s 3ms/step - loss: 0.4138 - accuracy: 0.8321\n",
      "Epoch 47/50\n",
      "80/80 [==============================] - 0s 3ms/step - loss: 0.4133 - accuracy: 0.8331\n",
      "Epoch 48/50\n",
      "80/80 [==============================] - 1s 8ms/step - loss: 0.4129 - accuracy: 0.8317\n",
      "Epoch 49/50\n",
      "80/80 [==============================] - 0s 3ms/step - loss: 0.4123 - accuracy: 0.8326\n",
      "Epoch 50/50\n",
      "80/80 [==============================] - 1s 7ms/step - loss: 0.4125 - accuracy: 0.8322\n"
     ]
    },
    {
     "data": {
      "text/plain": [
       "<keras.callbacks.History at 0x20597c48208>"
      ]
     },
     "execution_count": 14,
     "metadata": {},
     "output_type": "execute_result"
    }
   ],
   "source": [
    "# Batch Size: ['batch_size':  How many simples train in 1 time.]\n",
    "# No. of Epochs : How many times the model should be trained on the entire dataset.\n",
    "\n",
    "ann.fit(x_train, y_train, batch_size=100, epochs=50)"
   ]
  },
  {
   "cell_type": "code",
   "execution_count": 15,
   "id": "44b9fcf0",
   "metadata": {},
   "outputs": [],
   "source": [
    "prd = ann.predict(x_test)\n",
    "prd_data = []\n",
    "for i in prd:\n",
    "    # print(i)\n",
    "    if i[0] > 0.5:\n",
    "        prd_data.append(1)\n",
    "    else:\n",
    "        prd_data.append(0)"
   ]
  },
  {
   "cell_type": "code",
   "execution_count": 16,
   "id": "45f84e5f",
   "metadata": {},
   "outputs": [],
   "source": [
    "prd1 = ann.predict(x_train)\n",
    "prd_data1 = []\n",
    "for i in prd1:\n",
    "    if i[0] > 0.5:\n",
    "        prd_data1.append(1)\n",
    "    else:\n",
    "        prd_data1.append(0)"
   ]
  },
  {
   "cell_type": "code",
   "execution_count": 17,
   "id": "dc38c2cc",
   "metadata": {},
   "outputs": [],
   "source": [
    "from sklearn.metrics import accuracy_score"
   ]
  },
  {
   "cell_type": "code",
   "execution_count": 18,
   "id": "86a14bc3",
   "metadata": {},
   "outputs": [
    {
     "data": {
      "text/plain": [
       "83.55"
      ]
     },
     "execution_count": 18,
     "metadata": {},
     "output_type": "execute_result"
    }
   ],
   "source": [
    "accuracy_score(y_test, prd_data)*100"
   ]
  },
  {
   "cell_type": "code",
   "execution_count": 19,
   "id": "8dc32346",
   "metadata": {},
   "outputs": [
    {
     "data": {
      "text/plain": [
       "83.2375"
      ]
     },
     "execution_count": 19,
     "metadata": {},
     "output_type": "execute_result"
    }
   ],
   "source": [
    "accuracy_score(y_train, prd_data1)*100"
   ]
  },
  {
   "cell_type": "markdown",
   "id": "f75e993a",
   "metadata": {},
   "source": [
    "# Hyper Parameter Tuning"
   ]
  },
  {
   "cell_type": "code",
   "execution_count": 22,
   "id": "7c7da284",
   "metadata": {},
   "outputs": [],
   "source": [
    "# Some parameters where we apply haperparameter tuning. \n",
    "\n",
    "# 1. Number of hidden layers\n",
    "# 2. optimizer\n",
    "# 3. batch_size\n",
    "# 4. Epochs"
   ]
  },
  {
   "cell_type": "markdown",
   "id": "f8de219e",
   "metadata": {},
   "source": [
    "# Identify Overfitting.\n",
    "## 1. EarlyStopping"
   ]
  },
  {
   "cell_type": "code",
   "execution_count": 23,
   "id": "22726805",
   "metadata": {},
   "outputs": [],
   "source": [
    "from keras.callbacks import EarlyStopping"
   ]
  },
  {
   "cell_type": "code",
   "execution_count": 24,
   "id": "76f56d20",
   "metadata": {},
   "outputs": [],
   "source": [
    "ann1 = Sequential()"
   ]
  },
  {
   "cell_type": "code",
   "execution_count": 25,
   "id": "4499f20b",
   "metadata": {},
   "outputs": [],
   "source": [
    "ann1.compile(optimizer='adam', loss=\"binary_crossentropy\", metrics=['accuracy'])"
   ]
  },
  {
   "cell_type": "code",
   "execution_count": 26,
   "id": "257873f5",
   "metadata": {},
   "outputs": [
    {
     "name": "stdout",
     "output_type": "stream",
     "text": [
      "Epoch 1/50\n",
      "80/80 [==============================] - 1s 7ms/step - loss: 3.3930 - accuracy: 0.1649 - val_loss: 3.3276 - val_accuracy: 0.1525\n"
     ]
    },
    {
     "data": {
      "text/plain": [
       "<keras.callbacks.History at 0x205981d4248>"
      ]
     },
     "execution_count": 26,
     "metadata": {},
     "output_type": "execute_result"
    }
   ],
   "source": [
    "ann1.fit(x_train, y_train, batch_size=100, epochs=50, validation_data=(x_test,y_test), callbacks=EarlyStopping())"
   ]
  },
  {
   "cell_type": "code",
   "execution_count": 27,
   "id": "d22e0195",
   "metadata": {},
   "outputs": [],
   "source": [
    "train_accuracy = ann1.history.history[\"accuracy\"]\n",
    "test_accuracy = ann1.history.history[\"val_accuracy\"]"
   ]
  },
  {
   "cell_type": "code",
   "execution_count": 28,
   "id": "b856e5a9",
   "metadata": {},
   "outputs": [
    {
     "data": {
      "image/png": "[encoded data removed]",
      "text/plain": [
       "<Figure size 640x480 with 1 Axes>"
      ]
     },
     "metadata": {},
     "output_type": "display_data"
    }
   ],
   "source": [
    "plt.plot([i for i in range(1,2)], train_accuracy)\n",
    "plt.plot([i for i in range(1,2)], test_accuracy, c='red')\n",
    "plt.show()"
   ]
  },
  {
   "cell_type": "markdown",
   "id": "a8f5424c",
   "metadata": {},
   "source": [
    "## 2. Regularization"
   ]
  },
  {
   "cell_type": "code",
   "execution_count": 29,
   "id": "51d394d4",
   "metadata": {},
   "outputs": [],
   "source": [
    "from keras.regularizers import L1, L2"
   ]
  },
  {
   "cell_type": "code",
   "execution_count": 30,
   "id": "7f884481",
   "metadata": {},
   "outputs": [],
   "source": [
    "ann2 = Sequential()"
   ]
  },
  {
   "cell_type": "code",
   "execution_count": 31,
   "id": "d260a3c7",
   "metadata": {},
   "outputs": [],
   "source": [
    "ann2.add(Dense(6, input_dim=8, activation=\"relu\", kernel_regularizer=L2(l2=0.01)))\n",
    "ann2.add(Dense(4, activation=\"relu\", kernel_regularizer=L2(l2=0.01)))\n",
    "ann2.add(Dense(2, activation=\"relu\", kernel_regularizer=L2(l2=0.01)))\n",
    "ann2.add(Dense(1, activation=\"sigmoid\"))"
   ]
  },
  {
   "cell_type": "code",
   "execution_count": 32,
   "id": "6afd9f59",
   "metadata": {},
   "outputs": [],
   "source": [
    "ann2.compile(optimizer='adam', loss=\"binary_crossentropy\", metrics=['accuracy'])"
   ]
  },
  {
   "cell_type": "code",
   "execution_count": 33,
   "id": "8c7932e3",
   "metadata": {},
   "outputs": [
    {
     "name": "stdout",
     "output_type": "stream",
     "text": [
      "Epoch 1/50\n",
      "80/80 [==============================] - 2s 8ms/step - loss: 0.8401 - accuracy: 0.5576 - val_loss: 0.7741 - val_accuracy: 0.7265\n"
     ]
    },
    {
     "data": {
      "text/plain": [
       "<keras.callbacks.History at 0x20598619888>"
      ]
     },
     "execution_count": 33,
     "metadata": {},
     "output_type": "execute_result"
    }
   ],
   "source": [
    "ann2.fit(x_train, y_train, batch_size=100, epochs=50, validation_data=(x_test,y_test), callbacks=EarlyStopping())"
   ]
  },
  {
   "cell_type": "code",
   "execution_count": 34,
   "id": "26e62165",
   "metadata": {},
   "outputs": [],
   "source": [
    "train_accuracy1 = ann2.history.history[\"accuracy\"]\n",
    "test_accuracy1 = ann2.history.history[\"val_accuracy\"]"
   ]
  },
  {
   "cell_type": "code",
   "execution_count": 35,
   "id": "52816fc8",
   "metadata": {},
   "outputs": [
    {
     "data": {
      "image/png": "[encoded data removed]",
      "text/plain": [
       "<Figure size 640x480 with 1 Axes>"
      ]
     },
     "metadata": {},
     "output_type": "display_data"
    }
   ],
   "source": [
    "plt.plot([i for i in range(1,2)], train_accuracy1)\n",
    "plt.plot([i for i in range(1,2)], test_accuracy1, c='red')\n",
    "plt.show()"
   ]
  },
  {
   "cell_type": "markdown",
   "id": "17769d8b",
   "metadata": {},
   "source": [
    "## 3. Batch Normalization"
   ]
  },
  {
   "cell_type": "code",
   "execution_count": 36,
   "id": "89a6bcda",
   "metadata": {},
   "outputs": [],
   "source": [
    "from keras.layers import BatchNormalization"
   ]
  },
  {
   "cell_type": "code",
   "execution_count": 37,
   "id": "b71e3a46",
   "metadata": {},
   "outputs": [],
   "source": [
    "ann3 = Sequential()"
   ]
  },
  {
   "cell_type": "code",
   "execution_count": 38,
   "id": "334b99ae",
   "metadata": {},
   "outputs": [],
   "source": [
    "ann3.add(Dense(6, input_dim=8, activation=\"relu\", kernel_regularizer=L2(l2=0.01)))\n",
    "ann3.add(BatchNormalization())\n",
    "ann3.add(Dense(4, activation=\"relu\", kernel_regularizer=L2(l2=0.01)))\n",
    "ann3.add(BatchNormalization())\n",
    "ann3.add(Dense(2, activation=\"relu\", kernel_regularizer=L2(l2=0.01)))\n",
    "ann3.add(BatchNormalization())\n",
    "ann3.add(Dense(1, activation=\"sigmoid\"))"
   ]
  },
  {
   "cell_type": "code",
   "execution_count": 39,
   "id": "d2766e78",
   "metadata": {},
   "outputs": [],
   "source": [
    "ann3.compile(optimizer='adam', loss=\"binary_crossentropy\", metrics=['accuracy'])"
   ]
  },
  {
   "cell_type": "code",
   "execution_count": 40,
   "id": "d66cf512",
   "metadata": {},
   "outputs": [
    {
     "name": "stdout",
     "output_type": "stream",
     "text": [
      "Epoch 1/50\n",
      "80/80 [==============================] - 3s 8ms/step - loss: 0.8699 - accuracy: 0.4004 - val_loss: 0.7615 - val_accuracy: 0.4900\n"
     ]
    },
    {
     "data": {
      "text/plain": [
       "<keras.callbacks.History at 0x20599fd0d08>"
      ]
     },
     "execution_count": 40,
     "metadata": {},
     "output_type": "execute_result"
    }
   ],
   "source": [
    "ann3.fit(x_train, y_train, batch_size=100, epochs=50, validation_data=(x_test,y_test), callbacks=EarlyStopping())"
   ]
  },
  {
   "cell_type": "code",
   "execution_count": 41,
   "id": "6aa67e67",
   "metadata": {},
   "outputs": [],
   "source": [
    "prd2 = ann3.predict(x_test)\n",
    "prd_data2 = []\n",
    "for i in prd2:\n",
    "    # print(i)\n",
    "    if i[0] > 0.5:\n",
    "        prd_data2.append(1)\n",
    "    else:\n",
    "        prd_data2.append(0)"
   ]
  },
  {
   "cell_type": "code",
   "execution_count": 42,
   "id": "a00aa4b9",
   "metadata": {},
   "outputs": [],
   "source": [
    "prd2 = ann3.predict(x_train)\n",
    "prd_data3 = []\n",
    "for i in prd2:\n",
    "    if i[0] > 0.5:\n",
    "        prd_data3.append(1)\n",
    "    else:\n",
    "        prd_data3.append(0)"
   ]
  },
  {
   "cell_type": "code",
   "execution_count": 43,
   "id": "bf3baf13",
   "metadata": {},
   "outputs": [],
   "source": [
    "from sklearn.metrics import accuracy_score"
   ]
  },
  {
   "cell_type": "code",
   "execution_count": 44,
   "id": "b8651a14",
   "metadata": {},
   "outputs": [
    {
     "data": {
      "text/plain": [
       "49.0"
      ]
     },
     "execution_count": 44,
     "metadata": {},
     "output_type": "execute_result"
    }
   ],
   "source": [
    "accuracy_score(y_test, prd_data2)*100"
   ]
  },
  {
   "cell_type": "code",
   "execution_count": 45,
   "id": "7998a768",
   "metadata": {},
   "outputs": [
    {
     "data": {
      "text/plain": [
       "50.4375"
      ]
     },
     "execution_count": 45,
     "metadata": {},
     "output_type": "execute_result"
    }
   ],
   "source": [
    "accuracy_score(y_train, prd_data3)*100"
   ]
  },
  {
   "cell_type": "markdown",
   "id": "2a624322",
   "metadata": {},
   "source": [
    "## 4. Dropout Layer"
   ]
  },
  {
   "cell_type": "code",
   "execution_count": 46,
   "id": "d94db663",
   "metadata": {},
   "outputs": [],
   "source": [
    "from keras.layers import Dropout"
   ]
  },
  {
   "cell_type": "code",
   "execution_count": 47,
   "id": "f15c215e",
   "metadata": {},
   "outputs": [],
   "source": [
    "ann4 = Sequential()"
   ]
  },
  {
   "cell_type": "code",
   "execution_count": 48,
   "id": "18f82fda",
   "metadata": {},
   "outputs": [],
   "source": [
    "ann4.add(Dense(6, input_dim=8, activation=\"relu\", kernel_regularizer=L2(l2=0.01)))\n",
    "ann4.add(Dropout(0.5))\n",
    "ann4.add(Dense(4, activation=\"relu\", kernel_regularizer=L2(l2=0.01)))\n",
    "ann4.add(Dropout(0.5))\n",
    "ann4.add(Dense(2, activation=\"relu\", kernel_regularizer=L2(l2=0.01)))\n",
    "ann4.add(Dropout(0.5))\n",
    "ann4.add(Dense(1, activation=\"sigmoid\"))"
   ]
  },
  {
   "cell_type": "code",
   "execution_count": 49,
   "id": "62e0c8a0",
   "metadata": {},
   "outputs": [],
   "source": [
    "ann4.compile(optimizer='adam', loss=\"binary_crossentropy\", metrics=['accuracy'])"
   ]
  },
  {
   "cell_type": "code",
   "execution_count": 50,
   "id": "6298f176",
   "metadata": {},
   "outputs": [
    {
     "name": "stdout",
     "output_type": "stream",
     "text": [
      "Epoch 1/50\n",
      "80/80 [==============================] - 2s 8ms/step - loss: 0.7871 - accuracy: 0.7945 - val_loss: 0.7436 - val_accuracy: 0.8035\n"
     ]
    },
    {
     "data": {
      "text/plain": [
       "<keras.callbacks.History at 0x2059b7eb988>"
      ]
     },
     "execution_count": 50,
     "metadata": {},
     "output_type": "execute_result"
    }
   ],
   "source": [
    "ann4.fit(x_train, y_train, batch_size=100, epochs=50, validation_data=(x_test,y_test), callbacks=EarlyStopping())"
   ]
  },
  {
   "cell_type": "code",
   "execution_count": 51,
   "id": "539a69ce",
   "metadata": {},
   "outputs": [],
   "source": [
    "prd = ann4.predict(x_test)\n",
    "prd_data = []\n",
    "for i in prd:\n",
    "    # print(i)\n",
    "    if i[0] > 0.5:\n",
    "        prd_data.append(1)\n",
    "    else:\n",
    "        prd_data.append(0)"
   ]
  },
  {
   "cell_type": "code",
   "execution_count": 52,
   "id": "5a32da76",
   "metadata": {},
   "outputs": [],
   "source": [
    "prd1 = ann4.predict(x_train)\n",
    "prd_data1 = []\n",
    "for i in prd1:\n",
    "    if i[0] > 0.5:\n",
    "        prd_data1.append(1)\n",
    "    else:\n",
    "        prd_data1.append(0)"
   ]
  },
  {
   "cell_type": "code",
   "execution_count": 53,
   "id": "251369c3",
   "metadata": {},
   "outputs": [
    {
     "data": {
      "text/plain": [
       "80.35"
      ]
     },
     "execution_count": 53,
     "metadata": {},
     "output_type": "execute_result"
    }
   ],
   "source": [
    "accuracy_score(y_test, prd_data)*100"
   ]
  },
  {
   "cell_type": "code",
   "execution_count": 54,
   "id": "9ce5b4f1",
   "metadata": {},
   "outputs": [
    {
     "data": {
      "text/plain": [
       "79.45"
      ]
     },
     "execution_count": 54,
     "metadata": {},
     "output_type": "execute_result"
    }
   ],
   "source": [
    "accuracy_score(y_train, prd_data1)*100"
   ]
  },
  {
   "cell_type": "markdown",
   "id": "3ec356bf",
   "metadata": {},
   "source": [
    "# Prediction"
   ]
  },
  {
   "cell_type": "code",
   "execution_count": 55,
   "id": "019a7a19",
   "metadata": {},
   "outputs": [
    {
     "data": {
      "text/html": [
       "<div>\n",
       "<style scoped>\n",
       "    .dataframe tbody tr th:only-of-type {\n",
       "        vertical-align: middle;\n",
       "    }\n",
       "\n",
       "    .dataframe tbody tr th {\n",
       "        vertical-align: top;\n",
       "    }\n",
       "\n",
       "    .dataframe thead th {\n",
       "        text-align: right;\n",
       "    }\n",
       "</style>\n",
       "<table border=\"1\" class=\"dataframe\">\n",
       "  <thead>\n",
       "    <tr style=\"text-align: right;\">\n",
       "      <th></th>\n",
       "      <th>CreditScore</th>\n",
       "      <th>Age</th>\n",
       "      <th>Tenure</th>\n",
       "      <th>Balance</th>\n",
       "      <th>NumOfProducts</th>\n",
       "      <th>HasCrCard</th>\n",
       "      <th>IsActiveMember</th>\n",
       "      <th>EstimatedSalary</th>\n",
       "    </tr>\n",
       "  </thead>\n",
       "  <tbody>\n",
       "    <tr>\n",
       "      <th>6252</th>\n",
       "      <td>-0.564197</td>\n",
       "      <td>-0.660018</td>\n",
       "      <td>-0.695982</td>\n",
       "      <td>0.324119</td>\n",
       "      <td>0.807737</td>\n",
       "      <td>-1.547768</td>\n",
       "      <td>-1.030670</td>\n",
       "      <td>-1.013811</td>\n",
       "    </tr>\n",
       "    <tr>\n",
       "      <th>4684</th>\n",
       "      <td>-0.284834</td>\n",
       "      <td>0.388871</td>\n",
       "      <td>-1.387538</td>\n",
       "      <td>-1.225848</td>\n",
       "      <td>0.807737</td>\n",
       "      <td>0.646092</td>\n",
       "      <td>0.970243</td>\n",
       "      <td>0.804921</td>\n",
       "    </tr>\n",
       "    <tr>\n",
       "      <th>1731</th>\n",
       "      <td>-0.512463</td>\n",
       "      <td>0.484225</td>\n",
       "      <td>-0.350204</td>\n",
       "      <td>-1.225848</td>\n",
       "      <td>0.807737</td>\n",
       "      <td>0.646092</td>\n",
       "      <td>-1.030670</td>\n",
       "      <td>-0.722147</td>\n",
       "    </tr>\n",
       "    <tr>\n",
       "      <th>4742</th>\n",
       "      <td>-1.495407</td>\n",
       "      <td>1.914528</td>\n",
       "      <td>1.032908</td>\n",
       "      <td>0.683816</td>\n",
       "      <td>0.807737</td>\n",
       "      <td>0.646092</td>\n",
       "      <td>0.970243</td>\n",
       "      <td>1.227481</td>\n",
       "    </tr>\n",
       "    <tr>\n",
       "      <th>4521</th>\n",
       "      <td>-0.936681</td>\n",
       "      <td>-1.136786</td>\n",
       "      <td>0.687130</td>\n",
       "      <td>0.777477</td>\n",
       "      <td>-0.911583</td>\n",
       "      <td>0.646092</td>\n",
       "      <td>0.970243</td>\n",
       "      <td>0.253524</td>\n",
       "    </tr>\n",
       "    <tr>\n",
       "      <th>...</th>\n",
       "      <td>...</td>\n",
       "      <td>...</td>\n",
       "      <td>...</td>\n",
       "      <td>...</td>\n",
       "      <td>...</td>\n",
       "      <td>...</td>\n",
       "      <td>...</td>\n",
       "      <td>...</td>\n",
       "    </tr>\n",
       "    <tr>\n",
       "      <th>6412</th>\n",
       "      <td>-0.502117</td>\n",
       "      <td>1.342407</td>\n",
       "      <td>-0.004426</td>\n",
       "      <td>0.349118</td>\n",
       "      <td>-0.911583</td>\n",
       "      <td>-1.547768</td>\n",
       "      <td>0.970243</td>\n",
       "      <td>-0.957298</td>\n",
       "    </tr>\n",
       "    <tr>\n",
       "      <th>8285</th>\n",
       "      <td>-0.429689</td>\n",
       "      <td>-1.327494</td>\n",
       "      <td>1.724464</td>\n",
       "      <td>-1.225848</td>\n",
       "      <td>-0.911583</td>\n",
       "      <td>-1.547768</td>\n",
       "      <td>0.970243</td>\n",
       "      <td>0.170498</td>\n",
       "    </tr>\n",
       "    <tr>\n",
       "      <th>7853</th>\n",
       "      <td>0.822271</td>\n",
       "      <td>0.770285</td>\n",
       "      <td>0.687130</td>\n",
       "      <td>-1.225848</td>\n",
       "      <td>-0.911583</td>\n",
       "      <td>0.646092</td>\n",
       "      <td>-1.030670</td>\n",
       "      <td>-1.160142</td>\n",
       "    </tr>\n",
       "    <tr>\n",
       "      <th>1095</th>\n",
       "      <td>0.429093</td>\n",
       "      <td>-0.946079</td>\n",
       "      <td>-0.350204</td>\n",
       "      <td>-1.225848</td>\n",
       "      <td>-0.911583</td>\n",
       "      <td>0.646092</td>\n",
       "      <td>-1.030670</td>\n",
       "      <td>-0.405759</td>\n",
       "    </tr>\n",
       "    <tr>\n",
       "      <th>6929</th>\n",
       "      <td>-0.233100</td>\n",
       "      <td>0.007457</td>\n",
       "      <td>-1.387538</td>\n",
       "      <td>0.622738</td>\n",
       "      <td>-0.911583</td>\n",
       "      <td>0.646092</td>\n",
       "      <td>0.970243</td>\n",
       "      <td>0.131879</td>\n",
       "    </tr>\n",
       "  </tbody>\n",
       "</table>\n",
       "<p>2000 rows × 8 columns</p>\n",
       "</div>"
      ],
      "text/plain": [
       "      CreditScore       Age    Tenure   Balance  NumOfProducts  HasCrCard  \\\n",
       "6252    -0.564197 -0.660018 -0.695982  0.324119       0.807737  -1.547768   \n",
       "4684    -0.284834  0.388871 -1.387538 -1.225848       0.807737   0.646092   \n",
       "1731    -0.512463  0.484225 -0.350204 -1.225848       0.807737   0.646092   \n",
       "4742    -1.495407  1.914528  1.032908  0.683816       0.807737   0.646092   \n",
       "4521    -0.936681 -1.136786  0.687130  0.777477      -0.911583   0.646092   \n",
       "...           ...       ...       ...       ...            ...        ...   \n",
       "6412    -0.502117  1.342407 -0.004426  0.349118      -0.911583  -1.547768   \n",
       "8285    -0.429689 -1.327494  1.724464 -1.225848      -0.911583  -1.547768   \n",
       "7853     0.822271  0.770285  0.687130 -1.225848      -0.911583   0.646092   \n",
       "1095     0.429093 -0.946079 -0.350204 -1.225848      -0.911583   0.646092   \n",
       "6929    -0.233100  0.007457 -1.387538  0.622738      -0.911583   0.646092   \n",
       "\n",
       "      IsActiveMember  EstimatedSalary  \n",
       "6252       -1.030670        -1.013811  \n",
       "4684        0.970243         0.804921  \n",
       "1731       -1.030670        -0.722147  \n",
       "4742        0.970243         1.227481  \n",
       "4521        0.970243         0.253524  \n",
       "...              ...              ...  \n",
       "6412        0.970243        -0.957298  \n",
       "8285        0.970243         0.170498  \n",
       "7853       -1.030670        -1.160142  \n",
       "1095       -1.030670        -0.405759  \n",
       "6929        0.970243         0.131879  \n",
       "\n",
       "[2000 rows x 8 columns]"
      ]
     },
     "execution_count": 55,
     "metadata": {},
     "output_type": "execute_result"
    }
   ],
   "source": [
    "x_test"
   ]
  },
  {
   "cell_type": "code",
   "execution_count": 56,
   "id": "c7f51290",
   "metadata": {},
   "outputs": [
    {
     "data": {
      "text/plain": [
       "[0]"
      ]
     },
     "execution_count": 56,
     "metadata": {},
     "output_type": "execute_result"
    }
   ],
   "source": [
    "prd = ann.predict([[-0.564197,-0.660018,-0.695982,0.324119,0.807737,-1.547768,-1.030670,-1.013811]])\n",
    "prd_data = []\n",
    "for i in prd:\n",
    "    if i[0] > 0.5:\n",
    "        prd_data.append(1)\n",
    "    else:\n",
    "        prd_data.append(0)\n",
    "prd_data"
   ]
  },
  {
   "cell_type": "code",
   "execution_count": 57,
   "id": "f6959352",
   "metadata": {},
   "outputs": [
    {
     "data": {
      "text/plain": [
       "6252    0\n",
       "4684    0\n",
       "1731    0\n",
       "4742    0\n",
       "4521    0\n",
       "       ..\n",
       "6412    1\n",
       "8285    0\n",
       "7853    1\n",
       "1095    1\n",
       "6929    1\n",
       "Name: Exited, Length: 2000, dtype: int64"
      ]
     },
     "execution_count": 57,
     "metadata": {},
     "output_type": "execute_result"
    }
   ],
   "source": [
    "y_test"
   ]
  }
 ],
 "metadata": {
  "kernelspec": {
   "display_name": "Python 3 (ipykernel)",
   "language": "python",
   "name": "python3"
  },
  "language_info": {
   "codemirror_mode": {
    "name": "ipython",
    "version": 3
   },
   "file_extension": ".py",
   "mimetype": "text/x-python",
   "name": "python",
   "nbconvert_exporter": "python",
   "pygments_lexer": "ipython3",
   "version": "3.7.16"
  }
 },
 "nbformat": 4,
 "nbformat_minor": 5
}
